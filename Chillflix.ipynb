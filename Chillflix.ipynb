{
  "nbformat": 4,
  "nbformat_minor": 0,
  "metadata": {
    "colab": {
      "name": "Chillflix_git.ipynb",
      "provenance": [],
      "collapsed_sections": [],
      "authorship_tag": "ABX9TyN2Pnz21xErbqV+ElP/25ZI",
      "include_colab_link": true
    },
    "kernelspec": {
      "name": "python3",
      "display_name": "Python 3"
    },
    "language_info": {
      "name": "python"
    }
  },
  "cells": [
    {
      "cell_type": "markdown",
      "metadata": {
        "id": "view-in-github",
        "colab_type": "text"
      },
      "source": [
        "<a href=\"https://colab.research.google.com/github/Vladdh/Chillflix/blob/main/Chillflix.ipynb\" target=\"_parent\"><img src=\"https://colab.research.google.com/assets/colab-badge.svg\" alt=\"Open In Colab\"/></a>"
      ]
    },
    {
      "cell_type": "code",
      "metadata": {
        "id": "dpCekuZ9Q2Xn"
      },
      "source": [
        "\n",
        "#@title Bienvenue sur Chillflix ! Entrez un film ci dessous et cliquez sur le bouton Play ! { display-mode: \"form\" }\n",
        "film_user = \"\" #@param {type:\"string\"}\n",
        "list_tconst=[]\n",
        "besoin = df5['tconst'].loc[df5['Titre'].str.contains(film_user, case=False)].items()\n",
        "for code, tconst in besoin:\n",
        "  list_tconst.append(tconst)\n",
        "\n",
        "if len(list_tconst) == 1:\n",
        "  tconst_user = df5['tconst'].loc[df5['Titre'].str.contains(film_user, case=False)].item()\n",
        "  cluster_user = df5['Cluster_15'].loc[df5['Titre'].str.contains(film_user, case=False)].item()\n",
        "  \n",
        "\n",
        "\n",
        "  X = df5[['EncRunT',\t'EncYear', 'averageRating','EncNumR',\t'Crew1',\t'Crew2']].loc[df5['Cluster_15']==cluster_user]\n",
        "  y = df5['tconst'].loc[df5['Cluster_15']==cluster_user]\n",
        "  neigh=math.sqrt(len(X))\n",
        "  if round(neigh, 0)%2 == 0:\n",
        "    neigh = int(round(neigh+1, 0))\n",
        "  else:\n",
        "    neigh = int(round(neigh, 0))\n",
        "  modelknn=KNeighborsClassifier(n_neighbors=neigh, weights='distance').fit(X, y)\n",
        "  reco=modelknn.kneighbors(X.loc[df5['tconst']==tconst_user], n_neighbors=11)\n",
        "\n",
        "\n",
        "  \n",
        "  print(\"Si vous avez aimé\", df5['Titre'].loc[df5['tconst']==tconst_user].item(), \"vous aimerez sûrement :\\n\")\n",
        "  for nbfilms in range(11):\n",
        "    idfilm = reco[1].reshape(len(reco[1][0]), 1)[nbfilms].item()\n",
        "    reco_titre = df5['Titre'].loc[df5['Cluster_15']==cluster_user].iloc[idfilm]\n",
        "    if reco_titre != df5['Titre'].loc[df5['tconst']==tconst_user].item():\n",
        "      print(reco_titre)\n",
        "    else:\n",
        "      continue\n",
        "  \n",
        "\n",
        "elif len(list_tconst) > 1:\n",
        "    print(\"Nous avons trouvé plusieurs films correspondant pour\",film_user,\", merci d'indiquer le code (tconst) du film que vous désirez ci dessous.\\n\")\n",
        "    print(df5[['tconst', 'Titre', 'Année de sortie']].loc[df5['tconst'].isin(list_tconst)].to_string(index=False))\n",
        "    print(\"\\n\")\n",
        "    tconst_user = input(\"Votre code (tconst) ici : \")\n",
        "\n",
        "    try: \n",
        "      cluster_user = df5['Cluster_15'].loc[df5['tconst'] == tconst_user].item()\n",
        "      \n",
        "\n",
        "      X = df5[['EncRunT',\t'EncYear', 'averageRating','EncNumR',\t'Crew1',\t'Crew2']].loc[df5['Cluster_15']==cluster_user]\n",
        "      y = df5['tconst'].loc[df5['Cluster_15']==cluster_user]\n",
        "\n",
        "      neigh=math.sqrt(len(X))\n",
        "      if round(neigh, 0)%2 == 0:\n",
        "        neigh = int(round(neigh+1, 0))\n",
        "      else:\n",
        "        neigh = int(round(neigh, 0))\n",
        "\n",
        "      modelknn=KNeighborsClassifier(n_neighbors=neigh, weights='distance').fit(X, y)\n",
        "\n",
        "      reco=modelknn.kneighbors(X.loc[df5['tconst']==tconst_user], n_neighbors=10)\n",
        "      print(\"\\n\")\n",
        "      print(\"Si vous avez aimé\", df5['Titre'].loc[df5['tconst']==tconst_user].item(), \"vous aimerez sûrement :\\n\")\n",
        "      for nbfilms in range(10):\n",
        "        idfilm = reco[1].reshape(len(reco[1][0]), 1)[nbfilms].item()\n",
        "        reco_titre = df5['Titre'].loc[df5['Cluster_15']==cluster_user].iloc[idfilm]\n",
        "        if reco_titre != df5['Titre'].loc[df5['tconst']==tconst_user].item():\n",
        "          print(reco_titre)\n",
        "        else:\n",
        "          continue\n",
        "    except:\n",
        "      print('Code incorrect, veuillez recommencer.')\n",
        "\n",
        "else:\n",
        "  print(\"Désolé, nous n'avons pas trouvé de film correspondant à votre recherche.\")"
      ],
      "execution_count": null,
      "outputs": []
    },
    {
      "cell_type": "code",
      "metadata": {
        "id": "C_kcbCZ_R30G"
      },
      "source": [
        "#@title NE PAS TOUCHER (CODE SUPER SECRET) { display-mode: \"form\" }\n",
        "import pandas as pd\n",
        "from sklearn.neighbors import KNeighborsClassifier\n",
        "from sklearn.model_selection import train_test_split\n",
        "import math\n",
        "link = 'https://raw.githubusercontent.com/Vladdh/Chillflix/main/EncCRYN_R.csv'\n",
        "df = pd.read_csv(link, index_col=0)\n",
        "link2 = 'https://raw.githubusercontent.com/Vladdh/Chillflix/main/KMeans_G_15.csv'\n",
        "df2 = pd.read_csv(link2, index_col=0, usecols=[0, 1 ,4])\n",
        "link3 = 'https://raw.githubusercontent.com/Vladdh/Chillflix/main/table_name.csv'\n",
        "df3 = pd.read_csv(link3, index_col=0)\n",
        "df4 = df.merge(df2, on=['tconst'])\n",
        "df5 = df4.merge(df3, on=['tconst'])\n",
        "df5.rename(columns={'titleFR': 'Titre', 'startYear': 'Année de sortie'}, inplace=True)\n",
        "df5['Année de sortie']=df5['Année de sortie'].astype(int)"
      ],
      "execution_count": null,
      "outputs": []
    }
  ]
}